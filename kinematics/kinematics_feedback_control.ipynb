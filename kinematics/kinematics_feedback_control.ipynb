{
 "cells": [
  {
   "cell_type": "code",
   "execution_count": 609,
   "metadata": {},
   "outputs": [],
   "source": [
    "from math import *\n",
    "import numpy as np\n",
    "import matplotlib.pyplot as plt\n",
    "%matplotlib inline"
   ]
  },
  {
   "cell_type": "code",
   "execution_count": 610,
   "metadata": {},
   "outputs": [],
   "source": [
    "robotPose = [[0, 50, 0],\n",
    "             [-40, 40, 0],\n",
    "             [-50, 0, 0],\n",
    "             [-40, -40, 0],\n",
    "             [0, -50, 0]]\n",
    "goalPose = [0, 0, pi]\n",
    "parameters = {\n",
    "    'Krho':3, 'Kalpha':6, 'Kbeta':-1.5,\n",
    "    'backwardAllowed': False,\n",
    "    'useConstantSpeed': True,\n",
    "    'constantSpeed':.4\n",
    "}\n",
    "dt = 1"
   ]
  },
  {
   "cell_type": "code",
   "execution_count": 611,
   "metadata": {},
   "outputs": [],
   "source": [
    "def normalizeAngle(angle):\n",
    "    \"\"\"\n",
    "    set angle to the range [-pi, pi)\n",
    "    \"\"\"\n",
    "    return (angle + pi) % (2*pi) - pi"
   ]
  },
  {
   "cell_type": "code",
   "execution_count": 612,
   "metadata": {},
   "outputs": [],
   "source": [
    "def calculateControlOutput(robotPose, goalPose, parameters):\n",
    "    \"\"\"\n",
    "    This computes the motor velocities for a differential driven robot\n",
    "    \"\"\"\n",
    "    x = robotPose[0]\n",
    "    y = robotPose[1]\n",
    "    theta = robotPose[2]\n",
    "    \n",
    "    xg = goalPose[0]\n",
    "    yg = goalPose[1]\n",
    "    thetag = goalPose[2]\n",
    "    \n",
    "    rho = sqrt((xg-x)**2 + (yg-y)**2)\n",
    "    gamma = atan2(yg-y, xg-x)\n",
    "    alpha = gamma - theta\n",
    "    alpha = normalizeAngle(alpha)\n",
    "    \n",
    "    Kalpha = parameters['Kalpha']\n",
    "    Kbeta = parameters['Kbeta']\n",
    "    Krho = parameters['Krho']\n",
    "    \n",
    "    beta = thetag - theta - alpha\n",
    "    beta = normalizeAngle(beta)\n",
    "    \n",
    "    v = Krho * rho\n",
    "    w = Kalpha*alpha + Kbeta*beta\n",
    "    \n",
    "    if parameters['backwardAllowed']:\n",
    "        # two case\n",
    "        # case1: goal point is in front of robot\n",
    "        # case2: goal point is behind robot\n",
    "        if abs(alpha) <= pi/2:\n",
    "            # in front of robot\n",
    "            # nothing to do\n",
    "            pass\n",
    "        else:\n",
    "            # behind robot\n",
    "            alpha = gamma - theta - pi\n",
    "            alpha = normalizeAngle(alpha)\n",
    "            beta = thetag - gamma - pi\n",
    "            v = -Krho * rho\n",
    "            w = Kalpha*alpha + Kbeta*beta\n",
    "\n",
    "    if parameters['useConstantSpeed']:\n",
    "        tol = 1e-6\n",
    "        absVel = abs(v)\n",
    "        if absVel > parameters['constantSpeed']:\n",
    "            v = v/absVel*parameters['constantSpeed']\n",
    "            w = w/absVel*parameters['constantSpeed']\n",
    "    \n",
    "    return v, w"
   ]
  },
  {
   "cell_type": "code",
   "execution_count": 613,
   "metadata": {},
   "outputs": [],
   "source": [
    "results = []\n",
    "for robotPose_ in robotPose:\n",
    "    results_ = []\n",
    "    results_.append(robotPose_[:-1])\n",
    "    iterate = 0\n",
    "    while True:\n",
    "        iterate += 1\n",
    "        v, w = calculateControlOutput(robotPose_, goalPose, parameters)\n",
    "        theta = robotPose_[2] + w*dt\n",
    "        theta = normalizeAngle(theta)\n",
    "        xd = v * cos(theta) * dt\n",
    "        yd = v * sin(theta) * dt\n",
    "\n",
    "        robotPose_[0] += xd\n",
    "        robotPose_[1] += yd\n",
    "        robotPose_[2] = theta\n",
    "\n",
    "        results_.append(robotPose_[:-1])\n",
    "#          print(f\"{iterate}: v:{v:.2f}, w:{w:.2f}, \\\n",
    "#     pose: [{robotPose[0]:.2f}, {robotPose[1]:.2f}, {robotPose[2]:.3f}]\")\n",
    "\n",
    "        rho = sqrt((goalPose[0]-robotPose_[0])**2 + (goalPose[1] - robotPose_[1])**2)\n",
    "        if rho < 0.4:\n",
    "            break\n",
    "    results.append(results_)"
   ]
  },
  {
   "cell_type": "code",
   "execution_count": 608,
   "metadata": {},
   "outputs": [
    {
     "data": {
      "image/png": "[encoded data removed]",
      "text/plain": [
       "<Figure size 432x288 with 1 Axes>"
      ]
     },
     "metadata": {
      "needs_background": "light"
     },
     "output_type": "display_data"
    }
   ],
   "source": [
    "fig = plt.figure()\n",
    "for result in results:\n",
    "    r = np.array(result)\n",
    "    plt.xlim(-50, 50)\n",
    "    plt.ylim(-50, 50)\n",
    "    plt.plot(r[:,0], r[:,1], '.')\n",
    "plt.show()"
   ]
  },
  {
   "cell_type": "code",
   "execution_count": null,
   "metadata": {},
   "outputs": [],
   "source": []
  },
  {
   "cell_type": "code",
   "execution_count": null,
   "metadata": {},
   "outputs": [],
   "source": []
  }
 ],
 "metadata": {
  "kernelspec": {
   "display_name": "Python 3",
   "language": "python",
   "name": "python3"
  },
  "language_info": {
   "codemirror_mode": {
    "name": "ipython",
    "version": 3
   },
   "file_extension": ".py",
   "mimetype": "text/x-python",
   "name": "python",
   "nbconvert_exporter": "python",
   "pygments_lexer": "ipython3",
   "version": "3.7.1"
  }
 },
 "nbformat": 4,
 "nbformat_minor": 2
}
